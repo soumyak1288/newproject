{
 "cells": [
  {
   "cell_type": "code",
   "execution_count": 6,
   "metadata": {},
   "outputs": [],
   "source": [
    "import ansible"
   ]
  },
  {
   "cell_type": "code",
   "execution_count": 7,
   "metadata": {},
   "outputs": [
    {
     "name": "stdout",
     "output_type": "stream",
     "text": [
      "Help on package ansible:\n",
      "\n",
      "NAME\n",
      "    ansible\n",
      "\n",
      "DESCRIPTION\n",
      "    # (c) 2012-2014, Michael DeHaan <michael.dehaan@gmail.com>\n",
      "    #\n",
      "    # This file is part of Ansible\n",
      "    #\n",
      "    # Ansible is free software: you can redistribute it and/or modify\n",
      "    # it under the terms of the GNU General Public License as published by\n",
      "    # the Free Software Foundation, either version 3 of the License, or\n",
      "    # (at your option) any later version.\n",
      "    #\n",
      "    # Ansible is distributed in the hope that it will be useful,\n",
      "    # but WITHOUT ANY WARRANTY; without even the implied warranty of\n",
      "    # MERCHANTABILITY or FITNESS FOR A PARTICULAR PURPOSE.  See the\n",
      "    # GNU General Public License for more details.\n",
      "    #\n",
      "    # You should have received a copy of the GNU General Public License\n",
      "    # along with Ansible.  If not, see <http://www.gnu.org/licenses/>.\n",
      "\n",
      "PACKAGE CONTENTS\n",
      "    __main__\n",
      "    _vendor (package)\n",
      "    cli (package)\n",
      "    collections (package)\n",
      "    compat (package)\n",
      "    config (package)\n",
      "    constants\n",
      "    context\n",
      "    errors (package)\n",
      "    executor (package)\n",
      "    galaxy (package)\n",
      "    inventory (package)\n",
      "    module_utils (package)\n",
      "    modules (package)\n",
      "    parsing (package)\n",
      "    playbook (package)\n",
      "    plugins (package)\n",
      "    release\n",
      "    template (package)\n",
      "    utils (package)\n",
      "    vars (package)\n",
      "\n",
      "VERSION\n",
      "    2.14.3\n",
      "\n",
      "AUTHOR\n",
      "    Ansible, Inc.\n",
      "\n",
      "FILE\n",
      "    c:\\users\\soumyak\\appdata\\local\\programs\\python\\python311\\lib\\site-packages\\ansible\\__init__.py\n",
      "\n",
      "\n"
     ]
    }
   ],
   "source": [
    "help(ansible)"
   ]
  },
  {
   "cell_type": "code",
   "execution_count": 12,
   "metadata": {},
   "outputs": [
    {
     "ename": "AttributeError",
     "evalue": "module 'ansible' has no attribute 'cli'",
     "output_type": "error",
     "traceback": [
      "\u001b[1;31m---------------------------------------------------------------------------\u001b[0m",
      "\u001b[1;31mAttributeError\u001b[0m                            Traceback (most recent call last)",
      "Cell \u001b[1;32mIn[12], line 1\u001b[0m\n\u001b[1;32m----> 1\u001b[0m help(ansible\u001b[39m.\u001b[39;49mcli)\n",
      "\u001b[1;31mAttributeError\u001b[0m: module 'ansible' has no attribute 'cli'"
     ]
    }
   ],
   "source": [
    "help(ansible.cli)"
   ]
  }
 ],
 "metadata": {
  "kernelspec": {
   "display_name": "Python 3",
   "language": "python",
   "name": "python3"
  },
  "language_info": {
   "codemirror_mode": {
    "name": "ipython",
    "version": 3
   },
   "file_extension": ".py",
   "mimetype": "text/x-python",
   "name": "python",
   "nbconvert_exporter": "python",
   "pygments_lexer": "ipython3",
   "version": "3.11.1"
  },
  "orig_nbformat": 4
 },
 "nbformat": 4,
 "nbformat_minor": 2
}
